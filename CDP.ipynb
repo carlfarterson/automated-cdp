{
 "cells": [
  {
   "cell_type": "code",
   "execution_count": 1,
   "metadata": {},
   "outputs": [],
   "source": [
    "class CDP(object):\n",
    "\n",
    "    MIN_RATIO = 3.0/2.0\n",
    "\n",
    "    def __init__(self, eth_on_hand=100, price=150):\n",
    "        self.i = 0\n",
    "        self.usd_on_hand = 0\n",
    "        self.usd_generated = 1\n",
    "        self.eth_deposited = 0.01\n",
    "\n",
    "        self.start_eth_on_hand = eth_on_hand - self.eth_deposited\n",
    "        self.eth_on_hand = eth_on_hand - self.eth_deposited\n",
    "        self.start_price = price\n",
    "        self.price = price\n",
    "\n",
    "        self._update_calculations()\n",
    "\n",
    "    def _update_calculations(self):\n",
    "        self.liquidation_price = self.usd_generated * self.MIN_RATIO / self.eth_deposited\n",
    "        self.usd_value = self.price * self.eth_deposited\n",
    "        self.leverage_ratio = self.usd_value / self.usd_generated\n",
    "        self.usd_available_to_generate = self.usd_value / self.MIN_RATIO - self.usd_generated\n",
    "\n",
    "    # TODO: simplify this function\n",
    "    def _print_action(self, action, eth_usd, amt, max_amt, price=None):\n",
    "        if amt > max_amt:\n",
    "            return 'Invalid request. Unable to {} {}.'.format(action, eth_usd)\n",
    "\n",
    "        if action == 'deposit':\n",
    "            self.eth_deposited += amt\n",
    "            self.eth_on_hand -= amt\n",
    "        elif action == 'generate':\n",
    "            self.usd_generated += amt\n",
    "            self.usd_on_hand += amt\n",
    "        else:  #  action == 'trade'\n",
    "            self.eth_on_hand += amt/price\n",
    "            self.usd_on_hand -= amt\n",
    "\n",
    "        self.i += 1\n",
    "        print('{}. {} {} {}'.format(self.i, action, amt, eth_usd))\n",
    "        self._update_calculations()\n",
    "\n",
    "    def deposit_eth(self, eth):\n",
    "        self._print_action(action='deposit', eth_usd='ETH', amt=eth, max_amt=self.eth_on_hand)\n",
    "    \n",
    "    def generate_usd(self, usd):\n",
    "        self._print_action(action='generate', eth_usd='USD', amt=usd, max_amt=self.usd_available_to_generate)\n",
    "        \n",
    "    def trade_usd_for_eth(self, usd, price):\n",
    "        self._print_action(action='trade', eth_usd='USD', amt=usd, max_amt=self.usd_on_hand, price=price)\n",
    "        \n",
    "    def update_eth_price(self, price):\n",
    "        print('Update ETH price:  ${} => ${}\\n'.format(self.price, price))\n",
    "        self.price = price\n",
    "\n",
    "    def summarize(self):\n",
    "        print('---------------------------')\n",
    "        print('Current ETH price: ${0:.2f}'.format(self.price))\n",
    "        print('Liquidation price: ${0:.2f}'.format(self.liquidation_price))\n",
    "\n",
    "        print('\\nUSD value: ${0:.2f}'.format(self.usd_value))\n",
    "        print('ETH locked: {0:.2f} ETH'.format(self.eth_deposited))\n",
    "        print('ETH on hand: {0:.2f} ETH'.format(self.eth_on_hand))\n",
    "        print('USD on hand: ${0:.2f}'.format(self.usd_on_hand))\n",
    "\n",
    "        print('\\nUSD generated: ${0:.2f}'.format(self.usd_generated))\n",
    "        print('USD available to generate: ${0:.2f}'.format(self.usd_available_to_generate))\n",
    "        print('---------------------------\\n')\n",
    "\n",
    "    def close(self):\n",
    "        eth_owed = self.usd_generated / self.price\n",
    "        end_eth = self.eth_deposited - eth_owed\n",
    "        pct_change_eth_price = (self.price - self.start_price) / self.start_price\n",
    "        pct_change_eth_balance = (end_eth - self.start_eth_balance) / self.start_eth_balance\n",
    "        print('Starting balance: {0:.2f} ETH'.format(self.start_eth_balance))\n",
    "        print('Ending balance: {0:.2f} ETH'.format(end_eth))\n",
    "        print('% change in ETH price {0:.2%}'.format(pct_change_eth_price))\n",
    "        print('% change in ETH holdings: {0:.2%}'.format(pct_change_eth_balance))"
   ]
  },
  {
   "cell_type": "code",
   "execution_count": 2,
   "metadata": {},
   "outputs": [
    {
     "name": "stdout",
     "output_type": "stream",
     "text": [
      "1. deposit 109.99 ETH\n",
      "2. generate 10164.96 USD\n",
      "3. trade 10164.96 USD\n",
      "4. deposit 58.66204986149584 ETH\n",
      "---------------------------\n",
      "Current ETH price: $173.28\n",
      "Liquidation price: $90.41\n",
      "\n",
      "USD value: $29225.76\n",
      "ETH locked: 168.66 ETH\n",
      "ETH on hand: 3.38 ETH\n",
      "USD on hand: $0.00\n",
      "\n",
      "USD generated: $10165.96\n",
      "USD available to generate: $9317.88\n",
      "---------------------------\n",
      "\n"
     ]
    }
   ],
   "source": [
    "eth_start_price = 173.28\n",
    "cdp = CDP(eth_on_hand=115, price=eth_start_price)\n",
    "\n",
    "# Deposit 109.99 of starting ETH (keeping 5 ETH for future tx costs)\n",
    "cdp.deposit_eth(109.99)\n",
    "\n",
    "# Withdraw 80% of USD available\n",
    "withdrawal_1 = cdp.usd_available_to_generate * 0.8\n",
    "cdp.generate_usd(usd=withdrawal_1)\n",
    "\n",
    "# Trade USD to ETH on eth2dai.com @ $178.2 per ETH\n",
    "eth_trade_price = 178.2\n",
    "cdp.trade_usd_for_eth(usd=withdrawal_1, price=eth_trade_price)\n",
    "\n",
    "# Deposit ETH based starting eth_price (which equals $10,164)\n",
    "cdp.deposit_eth(withdrawal_1 / eth_start_price)\n",
    "cdp.summarize()"
   ]
  },
  {
   "cell_type": "code",
   "execution_count": 3,
   "metadata": {},
   "outputs": [
    {
     "name": "stdout",
     "output_type": "stream",
     "text": [
      "5. generate 5590.728 USD\n",
      "6. trade 5590.728 USD\n",
      "7. deposit 31.011360106500998 ETH\n",
      "Update ETH price:  $173.28 => $173.895\n",
      "\n",
      "---------------------------\n",
      "Current ETH price: $173.90\n",
      "Liquidation price: $118.37\n",
      "\n",
      "USD value: $34599.41\n",
      "ETH locked: 199.67 ETH\n",
      "ETH on hand: 3.38 ETH\n",
      "USD on hand: $0.00\n",
      "\n",
      "USD generated: $15756.69\n",
      "USD available to generate: $7309.58\n",
      "---------------------------\n",
      "\n"
     ]
    }
   ],
   "source": [
    "# Withdraw 60% of available USD\n",
    "withdrawal_2 = cdp.usd_available_to_generate * 0.6\n",
    "cdp.generate_usd(usd=withdrawal_2)\n",
    "\n",
    "# Trade USD to ETH\n",
    "eth_trade_price = 180.28\n",
    "cdp.trade_usd_for_eth(usd=withdrawal_2, price=eth_trade_price)\n",
    "\n",
    "# Deposit ETH purchased above\n",
    "cdp.deposit_eth(withdrawal_2 / eth_trade_price)\n",
    "cdp.update_eth_price(173.895)\n",
    "cdp.summarize()"
   ]
  },
  {
   "cell_type": "markdown",
   "metadata": {},
   "source": [
    "![title](images/2019.04.23.png)"
   ]
  },
  {
   "cell_type": "code",
   "execution_count": null,
   "metadata": {},
   "outputs": [],
   "source": [
    "s"
   ]
  }
 ],
 "metadata": {
  "kernelspec": {
   "display_name": "Python 3",
   "language": "python",
   "name": "python3"
  },
  "language_info": {
   "codemirror_mode": {
    "name": "ipython",
    "version": 3
   },
   "file_extension": ".py",
   "mimetype": "text/x-python",
   "name": "python",
   "nbconvert_exporter": "python",
   "pygments_lexer": "ipython3",
   "version": "3.7.3"
  }
 },
 "nbformat": 4,
 "nbformat_minor": 2
}
